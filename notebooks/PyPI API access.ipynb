{
 "cells": [
  {
   "cell_type": "markdown",
   "metadata": {},
   "source": [
    "## `jq` example\n",
    "\n",
    "```\n",
    "package_url_check_result=$(curl -s https://pypi.org/pypi/ansible/json | jq \".releases | with_entries(select(.value!=[])) | keys | index([\"\\\"${requested_ansible_version}\"\\\"])\")\n",
    "\n",
    "if [ \"${package_url_check_result}\" == \"null\" ]; then\n",
    "    echo \"Ansible version ${requested_ansible_version} not found on PyPI\"\n",
    "    exit 1\n",
    "fi\n",
    "```"
   ]
  },
  {
   "cell_type": "code",
   "execution_count": null,
   "metadata": {},
   "outputs": [],
   "source": [
    "def getPackageList(packageName):\n",
    "    import urllib, json\n",
    "    url = \"https://pypi.org/pypi/\" + packageName + \"/json\"\n",
    "    response = urllib.urlopen(url)\n",
    "    data = json.loads(response.read())\n",
    "    nonempty_package_list = [key for key, value in data['releases'].iteritems() if value]\n",
    "    return nonempty_package_list"
   ]
  },
  {
   "cell_type": "code",
   "execution_count": null,
   "metadata": {},
   "outputs": [],
   "source": [
    "print '1.9.0.1' in getPackageList('ansible')  # should return true\n",
    "print '1.9.0.x' in getPackageList('ansible')  # should return false\n",
    "print '1.9.0.1' in getPackageList('bnsible')  # produces error for now"
   ]
  },
  {
   "cell_type": "code",
   "execution_count": null,
   "metadata": {},
   "outputs": [],
   "source": []
  }
 ],
 "metadata": {
  "kernelspec": {
   "display_name": "Python 2",
   "language": "python",
   "name": "python2"
  },
  "language_info": {
   "codemirror_mode": {
    "name": "ipython",
    "version": 2
   },
   "file_extension": ".py",
   "mimetype": "text/x-python",
   "name": "python",
   "nbconvert_exporter": "python",
   "pygments_lexer": "ipython2",
   "version": "2.7.15"
  }
 },
 "nbformat": 4,
 "nbformat_minor": 2
}
